{
 "cells": [
  {
   "cell_type": "code",
   "execution_count": 1,
   "metadata": {},
   "outputs": [],
   "source": [
    "import numpy as np\n",
    "from sklearn.metrics import mean_squared_error\n",
    "from matplotlib import pyplot as plt\n"
   ]
  },
  {
   "cell_type": "code",
   "execution_count": 21,
   "metadata": {},
   "outputs": [],
   "source": [
    "csv = np.genfromtxt ('train.csv', delimiter=\",\")"
   ]
  },
  {
   "cell_type": "code",
   "execution_count": 22,
   "metadata": {},
   "outputs": [],
   "source": [
    "csv = csv[1:]"
   ]
  },
  {
   "cell_type": "code",
   "execution_count": 23,
   "metadata": {},
   "outputs": [],
   "source": [
    "X = csv[:,2:] "
   ]
  },
  {
   "cell_type": "code",
   "execution_count": 25,
   "metadata": {},
   "outputs": [
    {
     "name": "stdout",
     "output_type": "stream",
     "text": [
      "[0.000e+00 1.000e+00 2.000e+00 ... 9.997e+03 9.998e+03 9.999e+03]\n"
     ]
    }
   ],
   "source": [
    "Id = csv[:,0]\n",
    "print(Id)"
   ]
  },
  {
   "cell_type": "code",
   "execution_count": 26,
   "metadata": {},
   "outputs": [],
   "source": [
    "_, n_features = np.shape(X)"
   ]
  },
  {
   "cell_type": "code",
   "execution_count": 27,
   "metadata": {},
   "outputs": [
    {
     "data": {
      "text/plain": [
       "10"
      ]
     },
     "execution_count": 27,
     "metadata": {},
     "output_type": "execute_result"
    }
   ],
   "source": [
    "n_features"
   ]
  },
  {
   "cell_type": "code",
   "execution_count": 28,
   "metadata": {},
   "outputs": [],
   "source": [
    "y_hat = np.matmul(X,np.ones((n_features, 1)))[:,0]/n_features"
   ]
  },
  {
   "cell_type": "code",
   "execution_count": 29,
   "metadata": {},
   "outputs": [],
   "source": [
    "y = csv[:,1]"
   ]
  },
  {
   "cell_type": "code",
   "execution_count": null,
   "metadata": {},
   "outputs": [],
   "source": []
  },
  {
   "cell_type": "code",
   "execution_count": 30,
   "metadata": {},
   "outputs": [
    {
     "name": "stdout",
     "output_type": "stream",
     "text": [
      "4.6228848647591734e-14\n"
     ]
    }
   ],
   "source": [
    "print(mean_squared_error(y_hat, y)**0.5)"
   ]
  },
  {
   "cell_type": "code",
   "execution_count": 31,
   "metadata": {},
   "outputs": [],
   "source": [
    "RMSE = []\n",
    "N=0\n",
    "W=4\n",
    "line = []\n",
    "while True:\n",
    "    np.savetxt('temp.csv', np.transpose([Id, y_hat]), \n",
    "               fmt=['%.0f','%.'+str(N)+'f'], \n",
    "               delimiter=',', header='Id,y', comments='' )\n",
    "    \n",
    "    y_f = np.genfromtxt ('temp.csv', delimiter=\",\")[1:,1]\n",
    "    \n",
    "    RMSE.append((mean_squared_error(y_f, y)**0.5))\n",
    "    if N>=W and RMSE[N] >= RMSE[N-W]:\n",
    "        break\n",
    "    N+=1\n"
   ]
  },
  {
   "cell_type": "code",
   "execution_count": 32,
   "metadata": {},
   "outputs": [
    {
     "data": {
      "text/plain": [
       "[<matplotlib.lines.Line2D at 0x1a23870910>]"
      ]
     },
     "execution_count": 32,
     "metadata": {},
     "output_type": "execute_result"
    },
    {
     "data": {
      "image/png": "[encoded data removed]",
      "text/plain": [
       "<Figure size 432x288 with 1 Axes>"
      ]
     },
     "metadata": {
      "needs_background": "light"
     },
     "output_type": "display_data"
    }
   ],
   "source": [
    "plt.yscale(\"log\")\n",
    "plt.plot(RMSE)"
   ]
  },
  {
   "cell_type": "code",
   "execution_count": 33,
   "metadata": {},
   "outputs": [
    {
     "name": "stdout",
     "output_type": "stream",
     "text": [
      "RMSE = 4.62282833670671481202E-14 with 15 decimal digits\n"
     ]
    }
   ],
   "source": [
    "bestN = np.argmin(RMSE)\n",
    "print((\"RMSE = %.20E with %d decimal digits\")% (np.min(RMSE),bestN))"
   ]
  },
  {
   "cell_type": "code",
   "execution_count": 34,
   "metadata": {},
   "outputs": [],
   "source": [
    "np.savetxt('best.csv', np.transpose([Id, y_hat]), \n",
    "               fmt=['%.0f','%.'+str(bestN)+'f'], \n",
    "               delimiter=',', header='Id,y', comments='' )"
   ]
  },
  {
   "cell_type": "code",
   "execution_count": 15,
   "metadata": {},
   "outputs": [
    {
     "name": "stdout",
     "output_type": "stream",
     "text": [
      "[10000. 10001. 10002. ... 11997. 11998. 11999.]\n",
      "[[ -483.79749196  1288.05706466  -129.87871176 ...  -676.52396365\n",
      "   1327.22965506  -448.69544586]\n",
      " [ -316.40730486    30.83055597  -313.35672639 ...   112.33873097\n",
      "   1372.34022087  2062.56184249]\n",
      " [-2448.55899655  -561.9884085    355.09881965 ...   246.80120955\n",
      "   -562.41319652  -841.60201454]\n",
      " ...\n",
      " [  199.86464767   261.34577883  -127.9868049  ...  -517.18289177\n",
      "     79.69414067  1016.12660703]\n",
      " [ -151.6731569  -1425.19961999  1070.92211365 ... -1206.76602098\n",
      "  -1047.46487113     7.58810151]\n",
      " [  -97.08998298   780.44424995   221.08152007 ...  2531.7054924\n",
      "    -35.72203447   173.20019051]]\n"
     ]
    }
   ],
   "source": [
    "tst = np.genfromtxt ('test.csv', delimiter=\",\")[1:]\n",
    "Id = tst[:,0]\n",
    "print(Id)\n",
    "X=tst[:,1:]\n",
    "print(X)"
   ]
  },
  {
   "cell_type": "code",
   "execution_count": 16,
   "metadata": {},
   "outputs": [
    {
     "name": "stdout",
     "output_type": "stream",
     "text": [
      "(2000,)\n"
     ]
    }
   ],
   "source": [
    "#y_hat = np.matmul(X,np.ones((n_features, 1)))[:,0]/n_features\n",
    "y_hat = np.mean(X,axis=1)\n",
    "print(np.shape(y_hat))"
   ]
  },
  {
   "cell_type": "code",
   "execution_count": null,
   "metadata": {},
   "outputs": [],
   "source": []
  },
  {
   "cell_type": "code",
   "execution_count": 17,
   "metadata": {},
   "outputs": [
    {
     "name": "stdout",
     "output_type": "stream",
     "text": [
      "-7E+01\n",
      "4.5E+02\n",
      "-4.62E+02\n",
      "4.050E+01\n",
      "-1.2674E+02\n",
      "-3.42535E+02\n",
      "-3.965555E+02\n",
      "3.3554128E+02\n",
      "-9.95124209E+01\n",
      "3.048125398E+02\n",
      "6.8894530490E+01\n",
      "4.12369195456E+02\n",
      "5.494237102477E+01\n",
      "-1.7005550754780E+01\n",
      "-5.97849957572261E+02\n",
      "4.435022887864149E+02\n",
      "1.4477448697804351E+02\n",
      "-5.74111636725365102E+01\n",
      "1.343878275774605413E+02\n",
      "-1.0898377598910865061E+02\n",
      "1.53824828425066954196E+02\n",
      "6.117359836022022818725E+02\n",
      "5.8838965033842191587610E+02\n",
      "-1.31016799958019817040622E+02\n",
      "-6.113562114122951385297711E+01\n",
      "-3.7424849531697265092589078E+02\n",
      "7.41579930796540622850443469E+01\n",
      "1.374383787361043971486651571E+02\n",
      "4.2008661179679046426826971583E+02\n",
      "1.96765625713442744881831458770E+02\n",
      "2.684428498005316328089975286275E+02\n",
      "6.3847491025110889495408628135920E+02\n",
      "1.27378731386919710644178849179298E+02\n",
      "1.349118758399964645988688971556257E+00\n",
      "2.2710453177407988079039569129236042E+01\n",
      "3.42239534522564667895494494587182999E+02\n",
      "3.077039669741719194462348241358995438E+02\n",
      "3.4813820870093979920056881383061408997E+02\n",
      "-1.68652861307354299924554652534425258636E+02\n",
      "-2.022113090461722606505645671859383583069E+01\n",
      "-5.5174992757311144941922975704073905944824E+02\n",
      "-4.29971804066740162397763924673199653625488E+02\n",
      "2.618919587067439920247124973684549331665039E+02\n",
      "3.8982042612922128910213359631597995758056641E+02\n",
      "-9.61656222735655319411307573318481445312500000E+01\n",
      "-2.107108012563241459247365128248929977416992188E+02\n",
      "2.7888186878401120338821783661842346191406250000E+02\n",
      "-4.27453301031049136327055748552083969116210937500E+02\n",
      "-1.729032529175671584198425989598035812377929687500E+02\n",
      "4.6726437835578582280504633672535419464111328125000E+02\n"
     ]
    }
   ],
   "source": [
    "testN = 50\n",
    "RMSE = []\n",
    "for i in range(testN):\n",
    "    print((\"%.\"+str(i)+\"E\")% (y_hat[i]))\n",
    "    np.savetxt('out.csv', np.transpose([Id,y_hat]), fmt=['%.0f','%.'+str(i)+'e'], delimiter=',', header='Id,y')\n",
    "    y_f = np.genfromtxt ('out.csv', delimiter=\",\")[:,1]\n",
    "    #print(np.shape(y_f))\n",
    "    RMSE.append(mean_squared_error(y_f, y_hat)**0.5)\n",
    "\n"
   ]
  },
  {
   "cell_type": "code",
   "execution_count": 18,
   "metadata": {},
   "outputs": [
    {
     "name": "stdout",
     "output_type": "stream",
     "text": [
      "16 0.0\n",
      "6.0175774956e-14\n"
     ]
    }
   ],
   "source": [
    "print(np.argmin(RMSE),min(RMSE))\n",
    "myscore= 6.0175774956e-14\n",
    "print(myscore)"
   ]
  },
  {
   "cell_type": "code",
   "execution_count": 36,
   "metadata": {},
   "outputs": [
    {
     "name": "stdout",
     "output_type": "stream",
     "text": [
      "0\t2.84827922490702600821776968587073497474193572998047E-01\n",
      "1\t2.89042526461769193335538119526972877793014049530029E-02\n",
      "2\t2.88757708018539229269383561415907024638727307319641E-03\n",
      "3\t2.89599719254867934720848454688280071422923356294632E-04\n",
      "4\t2.88570357307119699727133294020475773322687018662691E-05\n",
      "5\t2.85416237464225195044511922126684311251665349118412E-06\n",
      "6\t2.87177513348644358778767116460728381355238525429741E-07\n",
      "7\t2.90030903169352978593084158107778813828758757153992E-08\n",
      "8\t2.90264245912809540291486943674580806229457152767282E-09\n",
      "9\t2.91026199730460928340709099665459952399615417562018E-10\n",
      "10\t2.89662689475815025358730036837522081594187284281361E-11\n",
      "11\t2.85515533923166167534416916361557104439908294502004E-12\n",
      "12\t2.93385496364931424918521323643501742123307352017036E-13\n",
      "13\t5.54572163475814177063603394476937007072868922319397E-14\n",
      "14\t4.62440879145655147345000165661059544149232014564888E-14\n",
      "15\t4.62282833670671481202424904230601886422373156260157E-14\n",
      "16\t4.62288517151367804670896626666428367249017834794689E-14\n",
      "17\t4.62288486102630184924757433566085590390961311546558E-14\n",
      "18\t4.62288486475917335118040107139526992272504299363867E-14\n",
      "19\t4.62288486475917335118040107139526992272504299363867E-14\n"
     ]
    },
    {
     "ename": "IndexError",
     "evalue": "list index out of range",
     "output_type": "error",
     "traceback": [
      "\u001b[0;31m---------------------------------------------------------------------------\u001b[0m",
      "\u001b[0;31mIndexError\u001b[0m                                Traceback (most recent call last)",
      "\u001b[0;32m<ipython-input-36-5582a5904f8a>\u001b[0m in \u001b[0;36m<module>\u001b[0;34m\u001b[0m\n\u001b[1;32m      1\u001b[0m \u001b[0mN\u001b[0m \u001b[0;34m=\u001b[0m \u001b[0;36m50\u001b[0m\u001b[0;34m\u001b[0m\u001b[0;34m\u001b[0m\u001b[0m\n\u001b[1;32m      2\u001b[0m \u001b[0;32mfor\u001b[0m \u001b[0mi\u001b[0m \u001b[0;32min\u001b[0m \u001b[0mrange\u001b[0m\u001b[0;34m(\u001b[0m\u001b[0mN\u001b[0m\u001b[0;34m)\u001b[0m\u001b[0;34m:\u001b[0m\u001b[0;34m\u001b[0m\u001b[0;34m\u001b[0m\u001b[0m\n\u001b[0;32m----> 3\u001b[0;31m     \u001b[0mprint\u001b[0m\u001b[0;34m(\u001b[0m\u001b[0mstr\u001b[0m\u001b[0;34m(\u001b[0m\u001b[0mi\u001b[0m\u001b[0;34m)\u001b[0m \u001b[0;34m+\u001b[0m \u001b[0;34m(\u001b[0m\u001b[0;34m\"\\t%.\"\u001b[0m\u001b[0;34m+\u001b[0m\u001b[0mstr\u001b[0m\u001b[0;34m(\u001b[0m\u001b[0mN\u001b[0m\u001b[0;34m)\u001b[0m\u001b[0;34m+\u001b[0m\u001b[0;34m\"E\"\u001b[0m\u001b[0;34m)\u001b[0m\u001b[0;34m%\u001b[0m \u001b[0;34m(\u001b[0m\u001b[0mRMSE\u001b[0m\u001b[0;34m[\u001b[0m\u001b[0mi\u001b[0m\u001b[0;34m]\u001b[0m\u001b[0;34m)\u001b[0m\u001b[0;34m)\u001b[0m\u001b[0;34m\u001b[0m\u001b[0;34m\u001b[0m\u001b[0m\n\u001b[0m",
      "\u001b[0;31mIndexError\u001b[0m: list index out of range"
     ]
    }
   ],
   "source": [
    "for i in range(N):\n",
    "    print(str(i) + (\"\\t%.\"+str(N)+\"E\")% (RMSE[i]))"
   ]
  },
  {
   "cell_type": "code",
   "execution_count": null,
   "metadata": {},
   "outputs": [],
   "source": []
  }
 ],
 "metadata": {
  "kernelspec": {
   "display_name": "Python 3",
   "language": "python",
   "name": "python3"
  },
  "language_info": {
   "codemirror_mode": {
    "name": "ipython",
    "version": 3
   },
   "file_extension": ".py",
   "mimetype": "text/x-python",
   "name": "python",
   "nbconvert_exporter": "python",
   "pygments_lexer": "ipython3",
   "version": "3.7.4"
  }
 },
 "nbformat": 4,
 "nbformat_minor": 2
}
