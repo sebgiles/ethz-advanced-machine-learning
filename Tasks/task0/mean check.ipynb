{
 "cells": [
  {
   "cell_type": "code",
   "execution_count": 1,
   "metadata": {},
   "outputs": [],
   "source": [
    "import numpy as np\n",
    "from sklearn.metrics import mean_squared_error\n",
    "from matplotlib import pyplot as plt\n"
   ]
  },
  {
   "cell_type": "code",
   "execution_count": 2,
   "metadata": {},
   "outputs": [],
   "source": [
    "csv = np.genfromtxt ('train.csv', delimiter=\",\")"
   ]
  },
  {
   "cell_type": "code",
   "execution_count": 3,
   "metadata": {},
   "outputs": [],
   "source": [
    "csv = csv[1:]"
   ]
  },
  {
   "cell_type": "code",
   "execution_count": 4,
   "metadata": {},
   "outputs": [],
   "source": [
    "X = csv[:,2:] "
   ]
  },
  {
   "cell_type": "code",
   "execution_count": 5,
   "metadata": {},
   "outputs": [
    {
     "name": "stdout",
     "output_type": "stream",
     "text": [
      "[0.000e+00 1.000e+00 2.000e+00 ... 9.997e+03 9.998e+03 9.999e+03]\n"
     ]
    }
   ],
   "source": [
    "Id = csv[:,0]\n",
    "print(Id)"
   ]
  },
  {
   "cell_type": "code",
   "execution_count": 6,
   "metadata": {},
   "outputs": [],
   "source": [
    "_, n_features = np.shape(X)"
   ]
  },
  {
   "cell_type": "code",
   "execution_count": 7,
   "metadata": {},
   "outputs": [
    {
     "data": {
      "text/plain": [
       "10"
      ]
     },
     "execution_count": 7,
     "metadata": {},
     "output_type": "execute_result"
    }
   ],
   "source": [
    "n_features"
   ]
  },
  {
   "cell_type": "code",
   "execution_count": 8,
   "metadata": {},
   "outputs": [],
   "source": [
    "y_hat = np.matmul(X,np.ones((n_features, 1)))[:,0]/n_features"
   ]
  },
  {
   "cell_type": "code",
   "execution_count": 9,
   "metadata": {},
   "outputs": [],
   "source": [
    "y = csv[:,1]"
   ]
  },
  {
   "cell_type": "code",
   "execution_count": null,
   "metadata": {},
   "outputs": [],
   "source": []
  },
  {
   "cell_type": "code",
   "execution_count": 10,
   "metadata": {},
   "outputs": [
    {
     "name": "stdout",
     "output_type": "stream",
     "text": [
      "4.6228848647591734e-14\n"
     ]
    }
   ],
   "source": [
    "print(mean_squared_error(y_hat, y)**0.5)"
   ]
  },
  {
   "cell_type": "code",
   "execution_count": 11,
   "metadata": {},
   "outputs": [],
   "source": [
    "RMSE = []\n",
    "N=0\n",
    "W=4\n",
    "line = []\n",
    "while True:\n",
    "    np.savetxt('temp.csv', np.transpose([Id, y_hat]), \n",
    "               fmt=['%.0f','%.'+str(N)+'f'], \n",
    "               delimiter=',', header='Id,y', comments='' )\n",
    "    \n",
    "    y_f = np.genfromtxt ('temp.csv', delimiter=\",\")[1:,1]\n",
    "    \n",
    "    RMSE.append((mean_squared_error(y_f, y)**0.5))\n",
    "    if N>=W and RMSE[N] >= RMSE[N-W]:\n",
    "        break\n",
    "    N+=1\n"
   ]
  },
  {
   "cell_type": "code",
   "execution_count": 12,
   "metadata": {},
   "outputs": [
    {
     "data": {
      "text/plain": [
       "[<matplotlib.lines.Line2D at 0x1a17d887d0>]"
      ]
     },
     "execution_count": 12,
     "metadata": {},
     "output_type": "execute_result"
    },
    {
     "data": {
      "image/png": "[encoded data removed]",
      "text/plain": [
       "<Figure size 432x288 with 1 Axes>"
      ]
     },
     "metadata": {
      "needs_background": "light"
     },
     "output_type": "display_data"
    }
   ],
   "source": [
    "plt.yscale(\"log\")\n",
    "plt.plot(RMSE)"
   ]
  },
  {
   "cell_type": "code",
   "execution_count": 13,
   "metadata": {},
   "outputs": [
    {
     "name": "stdout",
     "output_type": "stream",
     "text": [
      "RMSE = 4.62282833670671481202E-14 with 15 decimal digits\n"
     ]
    }
   ],
   "source": [
    "bestN = np.argmin(RMSE)\n",
    "print((\"RMSE = %.20E with %d decimal digits\")% (np.min(RMSE),bestN))"
   ]
  },
  {
   "cell_type": "code",
   "execution_count": 14,
   "metadata": {},
   "outputs": [],
   "source": [
    "np.savetxt('best.csv', np.transpose([Id, y_hat]), \n",
    "               fmt=['%.0f','%.'+str(bestN)+'f'], \n",
    "               delimiter=',', header='Id,y', comments='' )"
   ]
  },
  {
   "cell_type": "code",
   "execution_count": 15,
   "metadata": {},
   "outputs": [],
   "source": [
    "tst = np.genfromtxt ('test.csv', delimiter=\",\")[1:]\n",
    "Id = tst[:,0]\n",
    "X=tst[:,1:]"
   ]
  },
  {
   "cell_type": "code",
   "execution_count": 16,
   "metadata": {},
   "outputs": [],
   "source": [
    "#y_hat = np.matmul(X,np.ones((n_features, 1)))[:,0]/n_features\n",
    "y_hat = np.mean(X,axis=1)\n"
   ]
  },
  {
   "cell_type": "code",
   "execution_count": null,
   "metadata": {},
   "outputs": [],
   "source": []
  },
  {
   "cell_type": "code",
   "execution_count": 17,
   "metadata": {},
   "outputs": [
    {
     "name": "stdout",
     "output_type": "stream",
     "text": [
      "y_hat[0]=\t-6.60024234902313509110172162763774394989013671875000E+01\n",
      "y_f_0[0]=\t-6.60000000000000000000000000000000000000000000000000E+01\n",
      "y_f_1[0]=\t-6.60000000000000000000000000000000000000000000000000E+01\n",
      "y_f_2[0]=\t-6.60000000000000000000000000000000000000000000000000E+01\n",
      "y_f_3[0]=\t-6.60019999999999953388396534137427806854248046875000E+01\n",
      "y_f_4[0]=\t-6.60023999999999944066075840964913368225097656250000E+01\n",
      "y_f_5[0]=\t-6.60024200000000007548806024715304374694824218750000E+01\n",
      "y_f_6[0]=\t-6.60024229999999931806087261065840721130371093750000E+01\n",
      "y_f_7[0]=\t-6.60024235000000061290847952477633953094482421875000E+01\n",
      "y_f_8[0]=\t-6.60024234899999981962537276558578014373779296875000E+01\n",
      "y_f_9[0]=\t-6.60024234899999981962537276558578014373779296875000E+01\n",
      "y_f_10[0]=\t-6.60024234902000017655154806561768054962158203125000E+01\n",
      "y_f_11[0]=\t-6.60024234902300008798192720860242843627929687500000E+01\n",
      "y_f_12[0]=\t-6.60024234902309956396493362262845039367675781250000E+01\n",
      "y_f_13[0]=\t-6.60024234902313935435813618823885917663574218750000E+01\n",
      "y_f_14[0]=\t-6.60024234902313509110172162763774394989013671875000E+01\n",
      "y_f_15[0]=\t-6.60024234902313509110172162763774394989013671875000E+01\n",
      "y_f_16[0]=\t-6.60024234902313509110172162763774394989013671875000E+01\n",
      "y_f_17[0]=\t-6.60024234902313509110172162763774394989013671875000E+01\n",
      "y_f_18[0]=\t-6.60024234902313509110172162763774394989013671875000E+01\n",
      "y_f_19[0]=\t-6.60024234902313509110172162763774394989013671875000E+01\n",
      "y_f_20[0]=\t-6.60024234902313509110172162763774394989013671875000E+01\n",
      "y_f_21[0]=\t-6.60024234902313509110172162763774394989013671875000E+01\n",
      "y_f_22[0]=\t-6.60024234902313509110172162763774394989013671875000E+01\n",
      "y_f_23[0]=\t-6.60024234902313509110172162763774394989013671875000E+01\n",
      "y_f_24[0]=\t-6.60024234902313509110172162763774394989013671875000E+01\n",
      "y_f_25[0]=\t-6.60024234902313509110172162763774394989013671875000E+01\n",
      "y_f_26[0]=\t-6.60024234902313509110172162763774394989013671875000E+01\n",
      "y_f_27[0]=\t-6.60024234902313509110172162763774394989013671875000E+01\n",
      "y_f_28[0]=\t-6.60024234902313509110172162763774394989013671875000E+01\n",
      "y_f_29[0]=\t-6.60024234902313509110172162763774394989013671875000E+01\n",
      "y_f_30[0]=\t-6.60024234902313509110172162763774394989013671875000E+01\n",
      "y_f_31[0]=\t-6.60024234902313509110172162763774394989013671875000E+01\n",
      "y_f_32[0]=\t-6.60024234902313509110172162763774394989013671875000E+01\n",
      "y_f_33[0]=\t-6.60024234902313509110172162763774394989013671875000E+01\n",
      "y_f_34[0]=\t-6.60024234902313509110172162763774394989013671875000E+01\n",
      "y_f_35[0]=\t-6.60024234902313509110172162763774394989013671875000E+01\n",
      "y_f_36[0]=\t-6.60024234902313509110172162763774394989013671875000E+01\n",
      "y_f_37[0]=\t-6.60024234902313509110172162763774394989013671875000E+01\n",
      "y_f_38[0]=\t-6.60024234902313509110172162763774394989013671875000E+01\n",
      "y_f_39[0]=\t-6.60024234902313509110172162763774394989013671875000E+01\n",
      "y_f_40[0]=\t-6.60024234902313509110172162763774394989013671875000E+01\n",
      "y_f_41[0]=\t-6.60024234902313509110172162763774394989013671875000E+01\n",
      "y_f_42[0]=\t-6.60024234902313509110172162763774394989013671875000E+01\n",
      "y_f_43[0]=\t-6.60024234902313509110172162763774394989013671875000E+01\n",
      "y_f_44[0]=\t-6.60024234902313509110172162763774394989013671875000E+01\n",
      "y_f_45[0]=\t-6.60024234902313509110172162763774394989013671875000E+01\n",
      "y_f_46[0]=\t-6.60024234902313509110172162763774394989013671875000E+01\n",
      "y_f_47[0]=\t-6.60024234902313509110172162763774394989013671875000E+01\n",
      "y_f_48[0]=\t-6.60024234902313509110172162763774394989013671875000E+01\n",
      "y_f_49[0]=\t-6.60024234902313509110172162763774394989013671875000E+01\n"
     ]
    }
   ],
   "source": [
    "testN = 50\n",
    "RMSE = []\n",
    "print((\"y_hat[0]=\\t\"+\"%.\"+str(testN)+\"E\")% (y_hat[0]))\n",
    "\n",
    "for i in range(testN):\n",
    "    np.savetxt('out.csv', np.transpose([Id,y_hat]), fmt=['%.0f','%.'+str(i)+'f'], delimiter=',', header='Id,y')\n",
    "    y_f = np.genfromtxt ('out.csv', delimiter=\",\")[:,1]\n",
    "    #print(np.shape(y_f))\n",
    "    RMSE.append(mean_squared_error(y_f, y_hat)**0.5)\n",
    "    print((\"y_f_\"+str(i)+\"[0]=\\t\"+\"%.\"+str(testN)+\"E\")% (y_f[0]))\n",
    "\n"
   ]
  },
  {
   "cell_type": "code",
   "execution_count": 18,
   "metadata": {},
   "outputs": [
    {
     "name": "stdout",
     "output_type": "stream",
     "text": [
      "17 0.0\n",
      "6.0175774956e-14\n"
     ]
    }
   ],
   "source": [
    "print(np.argmin(RMSE),min(RMSE))\n",
    "myscore= 6.0175774956e-14\n",
    "print(myscore)"
   ]
  },
  {
   "cell_type": "code",
   "execution_count": 19,
   "metadata": {},
   "outputs": [
    {
     "name": "stdout",
     "output_type": "stream",
     "text": [
      "0\t2.89696094372677515060843234095955267548561096191406E-01\n",
      "1\t2.90995340192743978668943327647866681218147277832031E-02\n",
      "2\t2.88585387531441021902178789559911820106208324432373E-03\n",
      "3\t2.93775643022693548362528348505406938784290105104446E-04\n",
      "4\t2.90141089508760652391095719027092059150163549929857E-05\n",
      "5\t2.84220979926993769725494798361609127823612652719021E-06\n",
      "6\t2.86806087910320554488027454051457532102631375892088E-07\n",
      "7\t2.89512538098264098404183061177472047198477866913890E-08\n",
      "8\t2.92616839761349040451217869726434350763355496383156E-09\n",
      "9\t2.86000428334164743128345321138182935638560877578129E-10\n",
      "10\t2.90242747722197847797022434780564144676806570544159E-11\n",
      "11\t2.87705119699868301820203218882772162184879860546971E-12\n",
      "12\t2.95484107598612891415805844275539875933532518725855E-13\n",
      "13\t3.02802387368436249199210659575414489628553474376282E-14\n",
      "14\t1.42147153057952672710542792045352086263508952293511E-15\n",
      "15\t4.67456962179595514466907434762384987174596528666012E-17\n",
      "16\t6.20633538311818252460595215414028875230027722292365E-19\n",
      "17\t0.00000000000000000000000000000000000000000000000000E+00\n",
      "18\t0.00000000000000000000000000000000000000000000000000E+00\n",
      "19\t0.00000000000000000000000000000000000000000000000000E+00\n",
      "20\t0.00000000000000000000000000000000000000000000000000E+00\n",
      "21\t0.00000000000000000000000000000000000000000000000000E+00\n",
      "22\t0.00000000000000000000000000000000000000000000000000E+00\n",
      "23\t0.00000000000000000000000000000000000000000000000000E+00\n",
      "24\t0.00000000000000000000000000000000000000000000000000E+00\n",
      "25\t0.00000000000000000000000000000000000000000000000000E+00\n",
      "26\t0.00000000000000000000000000000000000000000000000000E+00\n",
      "27\t0.00000000000000000000000000000000000000000000000000E+00\n",
      "28\t0.00000000000000000000000000000000000000000000000000E+00\n",
      "29\t0.00000000000000000000000000000000000000000000000000E+00\n",
      "30\t0.00000000000000000000000000000000000000000000000000E+00\n",
      "31\t0.00000000000000000000000000000000000000000000000000E+00\n",
      "32\t0.00000000000000000000000000000000000000000000000000E+00\n",
      "33\t0.00000000000000000000000000000000000000000000000000E+00\n",
      "34\t0.00000000000000000000000000000000000000000000000000E+00\n",
      "35\t0.00000000000000000000000000000000000000000000000000E+00\n",
      "36\t0.00000000000000000000000000000000000000000000000000E+00\n",
      "37\t0.00000000000000000000000000000000000000000000000000E+00\n",
      "38\t0.00000000000000000000000000000000000000000000000000E+00\n",
      "39\t0.00000000000000000000000000000000000000000000000000E+00\n",
      "40\t0.00000000000000000000000000000000000000000000000000E+00\n",
      "41\t0.00000000000000000000000000000000000000000000000000E+00\n",
      "42\t0.00000000000000000000000000000000000000000000000000E+00\n",
      "43\t0.00000000000000000000000000000000000000000000000000E+00\n",
      "44\t0.00000000000000000000000000000000000000000000000000E+00\n",
      "45\t0.00000000000000000000000000000000000000000000000000E+00\n",
      "46\t0.00000000000000000000000000000000000000000000000000E+00\n",
      "47\t0.00000000000000000000000000000000000000000000000000E+00\n",
      "48\t0.00000000000000000000000000000000000000000000000000E+00\n",
      "49\t0.00000000000000000000000000000000000000000000000000E+00\n"
     ]
    }
   ],
   "source": [
    "for i in range(testN):\n",
    "    print(str(i) + (\"\\t%.\"+str(testN)+\"E\")% (RMSE[i]))"
   ]
  },
  {
   "cell_type": "code",
   "execution_count": 31,
   "metadata": {},
   "outputs": [],
   "source": [
    "np.savetxt('final.csv', np.transpose([Id,y_hat]), fmt=['%d','%.19e'], delimiter=',', header='Id,y',comments='')\n"
   ]
  },
  {
   "cell_type": "code",
   "execution_count": null,
   "metadata": {},
   "outputs": [],
   "source": []
  }
 ],
 "metadata": {
  "kernelspec": {
   "display_name": "Python 3",
   "language": "python",
   "name": "python3"
  },
  "language_info": {
   "codemirror_mode": {
    "name": "ipython",
    "version": 3
   },
   "file_extension": ".py",
   "mimetype": "text/x-python",
   "name": "python",
   "nbconvert_exporter": "python",
   "pygments_lexer": "ipython3",
   "version": "3.7.4"
  }
 },
 "nbformat": 4,
 "nbformat_minor": 2
}
