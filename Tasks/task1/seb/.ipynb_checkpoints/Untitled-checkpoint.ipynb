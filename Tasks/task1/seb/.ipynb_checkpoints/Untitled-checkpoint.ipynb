{
 "cells": [
  {
   "cell_type": "code",
   "execution_count": 1,
   "metadata": {},
   "outputs": [],
   "source": [
    "import pandas as pd\n",
    "import tensorflow as tf\n",
    "\n",
    "from tensorflow.python.keras import optimizers\n",
    "from tensorflow import keras\n",
    "\n",
    "import numpy as np\n",
    "from sklearn.model_selection import train_test_split\n",
    "from sklearn.preprocessing import StandardScaler\n",
    "from sklearn.utils import class_weight\n",
    "from sklearn.metrics import accuracy_score"
   ]
  },
  {
   "cell_type": "code",
   "execution_count": null,
   "metadata": {},
   "outputs": [],
   "source": [
    "\n"
   ]
  },
  {
   "cell_type": "code",
   "execution_count": 2,
   "metadata": {},
   "outputs": [],
   "source": [
    "# Set to 1 if you intend to have a validation set\n",
    "val = 0\n",
    "# Set to 1 if you intend to create a csv with the result\n",
    "create_csv = 1\n",
    "\n",
    "x_train_dir = 'X_train.csv'\n",
    "y_train_dir = 'y_train.csv'\n",
    "x_test_dir = 'X_test.csv'\n",
    "y_test_dir = 'y_test.csv'\n",
    "\n",
    "x_train = pd.read_csv(x_train_dir)\n",
    "x_train = x_train.drop(columns=['id'])\n",
    "y_train = pd.read_csv(y_train_dir)\n",
    "y_train = y_train.drop(columns=['id'])\n",
    "x_test = pd.read_csv(x_test_dir)\n",
    "x_test = x_test.drop(columns=['id'])\n",
    "\n",
    "\n",
    "\n",
    "\n",
    "# To arrays\n",
    "x_train_npa = x_train.values\n",
    "y_train_npa = y_train.values\n",
    "x_test_npa  = x_test.values\n",
    "\n",
    "# Dimensions\n",
    "train_datap = x_train.shape[0]\n",
    "test_datap = x_test.shape[0]\n",
    "n_features = x_train.shape[1]\n",
    "\n",
    "\n"
   ]
  },
  {
   "cell_type": "code",
   "execution_count": null,
   "metadata": {},
   "outputs": [],
   "source": [
    "#MEDIAN VALUE IMPUTATION\n",
    "x_train_mi\n",
    "x_test_mi\n",
    "\n",
    "for i in range(n_features):\n",
    "    mn = np.nanmedian(x_train_npa[:,i])\n",
    "    x_train_mi[:,i] = np.nan_to_num(x_train_npa[:,i], nan = mn)\n",
    "    #mn = np.nanmedian(x_test_npa[:,i]) #Can use test data for median value imputation? Not worth it probably\n",
    "    x_test_mi[:,i] = np.nan_to_num(x_test_npa[:,i], nan = mn)\n"
   ]
  },
  {
   "cell_type": "code",
   "execution_count": 3,
   "metadata": {},
   "outputs": [],
   "source": [
    "from sklearn.experimental import enable_iterative_imputer\n",
    "from sklearn.impute import IterativeImputer"
   ]
  },
  {
   "cell_type": "code",
   "execution_count": null,
   "metadata": {},
   "outputs": [],
   "source": [
    "imp = IterativeImputer(max_iter=10, initial_strategy='median',random_state=0)\n",
    "x_train_filled = imp.fit_transform(x_train,y_train)\n",
    "x_test_filled = imp.transform(x_test)"
   ]
  },
  {
   "cell_type": "code",
   "execution_count": null,
   "metadata": {},
   "outputs": [],
   "source": [
    "#X_test = [[np.nan, 2], [6, np.nan], [np.nan, 6]]"
   ]
  },
  {
   "cell_type": "code",
   "execution_count": null,
   "metadata": {},
   "outputs": [],
   "source": [
    "# the model learns that the second feature is double the first\n",
    "#print(np.round(imp.transform(X_test)))"
   ]
  },
  {
   "cell_type": "code",
   "execution_count": null,
   "metadata": {},
   "outputs": [],
   "source": [
    "print(x_train_filled(x_train==NaN))"
   ]
  },
  {
   "cell_type": "code",
   "execution_count": null,
   "metadata": {},
   "outputs": [],
   "source": [
    "print(\"hi\")"
   ]
  },
  {
   "cell_type": "raw",
   "metadata": {},
   "source": [
    "x_train==NaN"
   ]
  }
 ],
 "metadata": {
  "kernelspec": {
   "display_name": "Python 3",
   "language": "python",
   "name": "python3"
  },
  "language_info": {
   "codemirror_mode": {
    "name": "ipython",
    "version": 3
   },
   "file_extension": ".py",
   "mimetype": "text/x-python",
   "name": "python",
   "nbconvert_exporter": "python",
   "pygments_lexer": "ipython3",
   "version": "3.7.4"
  }
 },
 "nbformat": 4,
 "nbformat_minor": 2
}
