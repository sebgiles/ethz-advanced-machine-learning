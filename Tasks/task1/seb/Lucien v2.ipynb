{
 "cells": [
  {
   "cell_type": "code",
   "execution_count": 65,
   "metadata": {},
   "outputs": [
    {
     "name": "stdout",
     "output_type": "stream",
     "text": [
      "(1188, 832)\n",
      "(776, 832)\n",
      "(1964, 832)\n"
     ]
    }
   ],
   "source": [
    "import numpy as np\n",
    "#from fancyimpute import simple_fill\n",
    "from sklearn.preprocessing import StandardScaler\n",
    "from sklearn.feature_selection import RFE\n",
    "from sklearn.linear_model import LinearRegression\n",
    "from sklearn.ensemble import GradientBoostingRegressor\n",
    "from sklearn.neighbors import KNeighborsRegressor\n",
    "from sklearn.metrics import r2_score\n",
    "\n",
    "# To use this experimental feature, we need to explicitly ask for it:\n",
    "from sklearn.experimental import enable_iterative_imputer  # noqa\n",
    "from sklearn.impute import IterativeImputer\n",
    "\n",
    "\"\"\"\n",
    "0. median imputation\n",
    "1. normalise\n",
    "# OUTLIER DETECTION?\n",
    "2. feature selection using rfe to 250 ( -> IMPROVE!!!)\n",
    "3. grad, knn regressors -> bagging -> average (1, 0.5)\n",
    "4. => final prediction\n",
    "\n",
    "\"\"\"\n",
    "\n",
    "### 0. import -> impute\n",
    "#X_in = np.genfromtxt ('X_train.csv', delimiter=\",\")[1:,1:]\n",
    "X_in = np.genfromtxt ('Xtrain_clean.csv', delimiter=\",\")[1:,2:]\n",
    "y_in = np.genfromtxt ('Xtrain_clean.csv', delimiter=\",\")[1:,1]\n",
    "#X_in = np.delete(X_in,1,1)\n",
    "#y_in = np.genfromtxt ('y_train.csv', delimiter=\",\")[1:,1:]\n",
    "#X_out = np.genfromtxt ('X_test.csv', delimiter=\",\")[1:,1:] #also contains NAs\n",
    "X_out = np.genfromtxt ('Xtest_clean.csv', delimiter=\",\")[1:,1:] #also contains NAs\n",
    "print(X_in.shape)\n",
    "print(X_out.shape)\n",
    "labels_out = np.genfromtxt ('Xtest_clean.csv', delimiter=\",\")[1:,0]\n",
    "print(X_tot.shape)\n",
    "\n"
   ]
  },
  {
   "cell_type": "code",
   "execution_count": null,
   "metadata": {},
   "outputs": [],
   "source": []
  },
  {
   "cell_type": "code",
   "execution_count": null,
   "metadata": {},
   "outputs": [],
   "source": []
  },
  {
   "cell_type": "code",
   "execution_count": 44,
   "metadata": {},
   "outputs": [],
   "source": [
    "X_tot = np.concatenate((X_in, X_out), axis=0)\n",
    "#median_imputer = simple_fill.SimpleFill(fill_method=\"median\")\n",
    "X_medimp = median_imputer.fit_transform(X_tot)\n"
   ]
  },
  {
   "cell_type": "code",
   "execution_count": null,
   "metadata": {},
   "outputs": [],
   "source": []
  },
  {
   "cell_type": "code",
   "execution_count": 67,
   "metadata": {},
   "outputs": [],
   "source": [
    "import pandas as pd\n",
    "\n",
    "from sklearn.experimental import enable_iterative_imputer  # noqa\n",
    "from sklearn.datasets import fetch_california_housing\n",
    "from sklearn.impute import SimpleImputer\n",
    "from sklearn.impute import IterativeImputer\n",
    "from sklearn.linear_model import BayesianRidge\n",
    "from sklearn.tree import DecisionTreeRegressor\n",
    "from sklearn.ensemble import ExtraTreesRegressor\n",
    "from sklearn.neighbors import KNeighborsRegressor\n",
    "from sklearn.pipeline import make_pipeline\n",
    "from sklearn.model_selection import cross_val_score\n",
    "\n",
    "N_SPLITS = 5\n",
    "\n",
    "rng = np.random.RandomState(0)\n",
    "\n",
    "X_full = np.concatenate((X_in, X_out), axis=0)\n",
    "y_full = y_in\n",
    "n_samples, n_features = np.shape(X_full)\n",
    "\n",
    "X_missing = X_full\n",
    "y_missing = y_in\n",
    "# Estimate the score after iterative imputation of the missing values\n",
    "# with different estimators\n",
    "estimators = [\n",
    "    BayesianRidge(),\n",
    "]\n",
    "br_estimator = BayesianRidge()\n",
    "\n",
    "imputer = IterativeImputer(random_state=0, estimator=br_estimator)\n"
   ]
  },
  {
   "cell_type": "code",
   "execution_count": 68,
   "metadata": {},
   "outputs": [],
   "source": [
    "X_imp = imputer.fit_transform(X_full)"
   ]
  },
  {
   "cell_type": "code",
   "execution_count": null,
   "metadata": {},
   "outputs": [],
   "source": []
  },
  {
   "cell_type": "code",
   "execution_count": 69,
   "metadata": {},
   "outputs": [],
   "source": [
    "np.savetxt(\"X_imp.csv\", X_imp, delimiter=\",\", header=\"id,y\", comments=\"\") "
   ]
  },
  {
   "cell_type": "code",
   "execution_count": null,
   "metadata": {},
   "outputs": [],
   "source": []
  },
  {
   "cell_type": "code",
   "execution_count": 70,
   "metadata": {},
   "outputs": [
    {
     "data": {
      "text/plain": [
       "(1964, 832)"
      ]
     },
     "execution_count": 70,
     "metadata": {},
     "output_type": "execute_result"
    }
   ],
   "source": [
    "np.shape(X_imp)"
   ]
  },
  {
   "cell_type": "code",
   "execution_count": null,
   "metadata": {},
   "outputs": [],
   "source": []
  },
  {
   "cell_type": "code",
   "execution_count": 74,
   "metadata": {},
   "outputs": [
    {
     "data": {
      "text/plain": [
       "(776, 832)"
      ]
     },
     "execution_count": 74,
     "metadata": {},
     "output_type": "execute_result"
    }
   ],
   "source": [
    "np.shape(X_out)"
   ]
  },
  {
   "cell_type": "code",
   "execution_count": 75,
   "metadata": {},
   "outputs": [
    {
     "data": {
      "text/plain": [
       "(1188, 832)"
      ]
     },
     "execution_count": 75,
     "metadata": {},
     "output_type": "execute_result"
    }
   ],
   "source": [
    "np.shape(X_in)"
   ]
  },
  {
   "cell_type": "code",
   "execution_count": null,
   "metadata": {},
   "outputs": [],
   "source": []
  },
  {
   "cell_type": "code",
   "execution_count": null,
   "metadata": {},
   "outputs": [],
   "source": []
  },
  {
   "cell_type": "code",
   "execution_count": 86,
   "metadata": {},
   "outputs": [
    {
     "data": {
      "text/plain": [
       "0"
      ]
     },
     "execution_count": 86,
     "metadata": {},
     "output_type": "execute_result"
    }
   ],
   "source": [
    "np.sum(np.isnan(X_imp))"
   ]
  },
  {
   "cell_type": "code",
   "execution_count": null,
   "metadata": {},
   "outputs": [],
   "source": []
  },
  {
   "cell_type": "code",
   "execution_count": null,
   "metadata": {},
   "outputs": [],
   "source": []
  },
  {
   "cell_type": "code",
   "execution_count": 36,
   "metadata": {},
   "outputs": [],
   "source": [
    "Xt_imp = imputer.transform(X_out)"
   ]
  },
  {
   "cell_type": "code",
   "execution_count": 37,
   "metadata": {},
   "outputs": [],
   "source": [
    "np.savetxt(\"Xt_imp.csv\", Xt_imp, delimiter=\",\", header=\"id,y\", comments=\"\") \n"
   ]
  },
  {
   "cell_type": "code",
   "execution_count": 90,
   "metadata": {},
   "outputs": [
    {
     "data": {
      "image/png": "[encoded data removed]",
      "text/plain": [
       "<Figure size 432x288 with 1 Axes>"
      ]
     },
     "metadata": {
      "needs_background": "light"
     },
     "output_type": "display_data"
    }
   ],
   "source": [
    "feat_id = 4\n",
    "#plt.hist(X_imp[:,feat_id],20)\n",
    "#plt.hist(X_medimp[:,feat_id],20)\n",
    "#plt.hist(Xt_imp[:,feat_id],20)\n",
    "X_in_imp = X_imp[:X_in.shape[0],:]\n",
    "X_out_imp = X_imp[X_in.shape[0]:,:]\n",
    "#plt.hist(X_in_imp[:,feat_id],20)\n",
    "#plt.hist(X_out_imp[:,feat_id],20)\n",
    "plt.hist(X_in[:,feat_id],20)\n",
    "plt.hist(X_out[:,feat_id],20)\n",
    "plt.hist(X_out_imp[:,feat_id],20)\n",
    "plt.show()"
   ]
  },
  {
   "cell_type": "code",
   "execution_count": null,
   "metadata": {},
   "outputs": [],
   "source": []
  },
  {
   "cell_type": "code",
   "execution_count": null,
   "metadata": {},
   "outputs": [],
   "source": []
  },
  {
   "cell_type": "code",
   "execution_count": null,
   "metadata": {},
   "outputs": [],
   "source": []
  },
  {
   "cell_type": "code",
   "execution_count": null,
   "metadata": {},
   "outputs": [],
   "source": []
  },
  {
   "cell_type": "code",
   "execution_count": null,
   "metadata": {},
   "outputs": [],
   "source": []
  },
  {
   "cell_type": "code",
   "execution_count": null,
   "metadata": {},
   "outputs": [],
   "source": []
  },
  {
   "cell_type": "code",
   "execution_count": null,
   "metadata": {},
   "outputs": [],
   "source": []
  },
  {
   "cell_type": "code",
   "execution_count": null,
   "metadata": {},
   "outputs": [],
   "source": []
  },
  {
   "cell_type": "code",
   "execution_count": null,
   "metadata": {},
   "outputs": [],
   "source": []
  },
  {
   "cell_type": "code",
   "execution_count": null,
   "metadata": {},
   "outputs": [],
   "source": []
  },
  {
   "cell_type": "code",
   "execution_count": null,
   "metadata": {},
   "outputs": [],
   "source": []
  },
  {
   "cell_type": "code",
   "execution_count": null,
   "metadata": {},
   "outputs": [],
   "source": []
  },
  {
   "cell_type": "code",
   "execution_count": null,
   "metadata": {},
   "outputs": [],
   "source": []
  },
  {
   "cell_type": "code",
   "execution_count": null,
   "metadata": {},
   "outputs": [],
   "source": []
  },
  {
   "cell_type": "code",
   "execution_count": null,
   "metadata": {},
   "outputs": [],
   "source": []
  },
  {
   "cell_type": "code",
   "execution_count": null,
   "metadata": {},
   "outputs": [],
   "source": []
  },
  {
   "cell_type": "code",
   "execution_count": 57,
   "metadata": {},
   "outputs": [
    {
     "data": {
      "text/plain": [
       "0"
      ]
     },
     "execution_count": 57,
     "metadata": {},
     "output_type": "execute_result"
    }
   ],
   "source": [
    "np.sum(np.isnan(Xt_imp))"
   ]
  },
  {
   "cell_type": "code",
   "execution_count": null,
   "metadata": {},
   "outputs": [],
   "source": []
  },
  {
   "cell_type": "code",
   "execution_count": 91,
   "metadata": {},
   "outputs": [
    {
     "name": "stdout",
     "output_type": "stream",
     "text": [
      "(1188, 832)\n",
      "(776, 832)\n"
     ]
    }
   ],
   "source": [
    "### 1. normalise\n",
    "\n",
    "#X_in = X_imp;\n",
    "#X_out = Xt_imp;\n",
    "X_tot = X_imp\n",
    "#X_tot = np.concatenate((X_in, X_out), axis=0)\n",
    "scaler = StandardScaler()\n",
    "X_tot = scaler.fit_transform(X_tot)\n",
    "X_in = X_tot[:X_in.shape[0],:]\n",
    "X_out = X_tot[X_in.shape[0]:,:]\n",
    "print(X_in.shape)\n",
    "print(X_out.shape)"
   ]
  },
  {
   "cell_type": "code",
   "execution_count": null,
   "metadata": {},
   "outputs": [],
   "source": []
  },
  {
   "cell_type": "code",
   "execution_count": 92,
   "metadata": {},
   "outputs": [
    {
     "name": "stdout",
     "output_type": "stream",
     "text": [
      "Fitting estimator with 832 features.\n",
      "Fitting estimator with 812 features.\n",
      "Fitting estimator with 792 features.\n",
      "Fitting estimator with 772 features.\n",
      "Fitting estimator with 752 features.\n",
      "Fitting estimator with 732 features.\n",
      "Fitting estimator with 712 features.\n",
      "Fitting estimator with 692 features.\n",
      "Fitting estimator with 672 features.\n",
      "Fitting estimator with 652 features.\n",
      "Fitting estimator with 632 features.\n",
      "Fitting estimator with 612 features.\n",
      "Fitting estimator with 592 features.\n",
      "Fitting estimator with 572 features.\n",
      "Fitting estimator with 552 features.\n",
      "Fitting estimator with 532 features.\n",
      "Fitting estimator with 512 features.\n",
      "Fitting estimator with 492 features.\n",
      "Fitting estimator with 472 features.\n",
      "Fitting estimator with 452 features.\n",
      "Fitting estimator with 432 features.\n",
      "Fitting estimator with 412 features.\n",
      "Fitting estimator with 392 features.\n",
      "Fitting estimator with 372 features.\n",
      "Fitting estimator with 352 features.\n",
      "Fitting estimator with 332 features.\n",
      "Fitting estimator with 312 features.\n",
      "Fitting estimator with 300 features.\n",
      "Fitting estimator with 297 features.\n",
      "Fitting estimator with 294 features.\n",
      "Fitting estimator with 291 features.\n",
      "Fitting estimator with 288 features.\n",
      "Fitting estimator with 285 features.\n",
      "Fitting estimator with 282 features.\n",
      "Fitting estimator with 279 features.\n",
      "Fitting estimator with 276 features.\n",
      "Fitting estimator with 273 features.\n",
      "Fitting estimator with 270 features.\n",
      "Fitting estimator with 267 features.\n",
      "Fitting estimator with 264 features.\n",
      "Fitting estimator with 261 features.\n",
      "Fitting estimator with 258 features.\n",
      "Fitting estimator with 255 features.\n",
      "Fitting estimator with 252 features.\n",
      "Fitting estimator with 249 features.\n",
      "Fitting estimator with 246 features.\n",
      "Fitting estimator with 243 features.\n",
      "Fitting estimator with 240 features.\n",
      "Fitting estimator with 237 features.\n",
      "Fitting estimator with 234 features.\n",
      "Fitting estimator with 231 features.\n",
      "Fitting estimator with 228 features.\n",
      "Fitting estimator with 225 features.\n",
      "Fitting estimator with 222 features.\n",
      "Fitting estimator with 219 features.\n",
      "Fitting estimator with 216 features.\n",
      "Fitting estimator with 213 features.\n",
      "Fitting estimator with 210 features.\n",
      "Fitting estimator with 207 features.\n",
      "Fitting estimator with 204 features.\n",
      "Fitting estimator with 201 features.\n",
      "Fitting estimator with 200 features.\n",
      "Fitting estimator with 199 features.\n",
      "Fitting estimator with 198 features.\n",
      "Fitting estimator with 197 features.\n",
      "Fitting estimator with 196 features.\n",
      "Fitting estimator with 195 features.\n",
      "Fitting estimator with 194 features.\n",
      "Fitting estimator with 193 features.\n",
      "Fitting estimator with 192 features.\n",
      "Fitting estimator with 191 features.\n",
      "Fitting estimator with 190 features.\n",
      "Fitting estimator with 189 features.\n",
      "Fitting estimator with 188 features.\n",
      "Fitting estimator with 187 features.\n",
      "Fitting estimator with 186 features.\n",
      "Fitting estimator with 185 features.\n",
      "Fitting estimator with 184 features.\n",
      "Fitting estimator with 183 features.\n",
      "Fitting estimator with 182 features.\n",
      "Fitting estimator with 181 features.\n",
      "Fitting estimator with 180 features.\n",
      "Fitting estimator with 179 features.\n",
      "Fitting estimator with 178 features.\n",
      "Fitting estimator with 177 features.\n",
      "Fitting estimator with 176 features.\n",
      "Fitting estimator with 175 features.\n",
      "Fitting estimator with 174 features.\n",
      "Fitting estimator with 173 features.\n",
      "Fitting estimator with 172 features.\n",
      "Fitting estimator with 171 features.\n",
      "Fitting estimator with 170 features.\n",
      "Fitting estimator with 169 features.\n",
      "Fitting estimator with 168 features.\n",
      "Fitting estimator with 167 features.\n",
      "Fitting estimator with 166 features.\n",
      "Fitting estimator with 165 features.\n",
      "Fitting estimator with 164 features.\n",
      "Fitting estimator with 163 features.\n",
      "Fitting estimator with 162 features.\n",
      "Fitting estimator with 161 features.\n",
      "Fitting estimator with 160 features.\n",
      "Fitting estimator with 159 features.\n",
      "Fitting estimator with 158 features.\n",
      "Fitting estimator with 157 features.\n",
      "Fitting estimator with 156 features.\n",
      "Fitting estimator with 155 features.\n",
      "Fitting estimator with 154 features.\n",
      "Fitting estimator with 153 features.\n",
      "Fitting estimator with 152 features.\n",
      "Fitting estimator with 151 features.\n",
      "0.9996853882145429\n"
     ]
    }
   ],
   "source": [
    "### 2. feature selection\n",
    "estimator = GradientBoostingRegressor(loss=\"ls\", n_estimators=500, max_depth=4, subsample=0.7, random_state=666, max_features=\"auto\")\n",
    "rfe = RFE(estimator, n_features_to_select=300, step=20, verbose=1)\n",
    "rfe.fit_transform(X_in, y_in)\n",
    "indx = rfe.get_support(indices=True)\n",
    "X_in = X_in[:,indx]\n",
    "X_out = X_out[:,indx]\n",
    "\n",
    "rfe = RFE(estimator, n_features_to_select=200, step=3, verbose=1)\n",
    "rfe.fit_transform(X_in, y_in)\n",
    "indx = rfe.get_support(indices=True)\n",
    "X_in = X_in[:,indx]\n",
    "X_out = X_out[:,indx]\n",
    "\n",
    "rfe = RFE(estimator, n_features_to_select=150, step=1, verbose=1)\n",
    "rfe.fit_transform(X_in, y_in)\n",
    "indx = rfe.get_support(indices=True)\n",
    "X_in = X_in[:,indx]\n",
    "X_out = X_out[:,indx]\n",
    "\n",
    "\n",
    "\n",
    "### 3. use different regressors\n",
    "grad_1 = GradientBoostingRegressor(n_estimators=500, max_depth=4, subsample=0.8, random_state=666, max_features=\"auto\")\n",
    "grad_2 = GradientBoostingRegressor(n_estimators=500, max_depth=4, subsample=0.8, random_state=667, max_features=\"auto\")\n",
    "grad_3 = GradientBoostingRegressor(n_estimators=500, max_depth=4, subsample=0.8, random_state=668, max_features=\"auto\")\n",
    "grad_4 = GradientBoostingRegressor(n_estimators=500, max_depth=4, subsample=0.8, random_state=669, max_features=\"auto\")\n",
    "grad_5 = GradientBoostingRegressor(n_estimators=500, max_depth=4, subsample=0.8, random_state=670, max_features=\"auto\")\n",
    "\n",
    "grad_6 = GradientBoostingRegressor(loss=\"ls\", n_estimators=500, max_depth=4, subsample=0.7, random_state=671, max_features=\"auto\")\n",
    "grad_7 = GradientBoostingRegressor(loss=\"ls\", n_estimators=500, max_depth=4, subsample=0.7, random_state=672, max_features=\"auto\")\n",
    "grad_8 = GradientBoostingRegressor(loss=\"ls\", n_estimators=500, max_depth=4, subsample=0.7, random_state=673, max_features=\"auto\")\n",
    "grad_9 = GradientBoostingRegressor(loss=\"ls\", n_estimators=500, max_depth=4, subsample=0.7, random_state=674, max_features=\"auto\")\n",
    "grad_10 = GradientBoostingRegressor(loss=\"ls\", n_estimators=500, max_depth=4, subsample=0.7, random_state=675, max_features=\"auto\")\n",
    "\n",
    "grad_11 = GradientBoostingRegressor(loss=\"huber\", n_estimators=500, max_depth=4, subsample=0.7, random_state=676, max_features=\"auto\")\n",
    "grad_12 = GradientBoostingRegressor(loss=\"huber\", n_estimators=500, max_depth=4, subsample=0.7, random_state=677, max_features=\"auto\")\n",
    "grad_13 = GradientBoostingRegressor(loss=\"huber\", n_estimators=500, max_depth=4, subsample=0.7, random_state=678, max_features=\"auto\")\n",
    "grad_14 = GradientBoostingRegressor(loss=\"huber\", n_estimators=500, max_depth=4, subsample=0.7, random_state=679, max_features=\"auto\")\n",
    "grad_15 = GradientBoostingRegressor(loss=\"huber\", n_estimators=500, max_depth=4, subsample=0.7, random_state=680, max_features=\"auto\")\n",
    "\n",
    "\n",
    "regs = [grad_1, grad_2, grad_3, grad_4, grad_5, grad_6, grad_7, grad_8, grad_9, grad_10,\n",
    "        grad_11, grad_12, grad_13, grad_14, grad_15]\n",
    "fits= np.zeros((X_in.shape[0], len(regs)))\n",
    "preds = np.zeros((X_out.shape[0], len(regs)))\n",
    "for i, reg in enumerate(regs):\n",
    "    reg.fit(X_in, np.ravel(y_in))\n",
    "    fits[:, i] = reg.predict(X_in)\n",
    "    preds[:, i] = reg.predict(X_out)\n",
    "\n",
    "\n",
    "train_pred = np.mean(fits, axis=1)\n",
    "test_pred = np.mean(preds, axis=1)\n",
    "\n",
    "print(r2_score(y_in, np.ravel(train_pred))) # training accuracy\n",
    "\n",
    "test_pred = np.reshape(test_pred, (test_pred.shape[0],1))\n",
    "labels_out = np.reshape(labels_out, (labels_out.shape[0],1))\n",
    "\n",
    "out = np.concatenate((labels_out, test_pred), axis=1)\n",
    "np.savetxt(\"impoutv2.csv\", out, delimiter=\",\", header=\"id,y\", comments=\"\") # NEED TO MANUALLY REMOVE # FROM HEADER (maybe)"
   ]
  },
  {
   "cell_type": "code",
   "execution_count": null,
   "metadata": {},
   "outputs": [],
   "source": []
  }
 ],
 "metadata": {
  "kernelspec": {
   "display_name": "Python 3",
   "language": "python",
   "name": "python3"
  },
  "language_info": {
   "codemirror_mode": {
    "name": "ipython",
    "version": 3
   },
   "file_extension": ".py",
   "mimetype": "text/x-python",
   "name": "python",
   "nbconvert_exporter": "python",
   "pygments_lexer": "ipython3",
   "version": "3.7.4"
  }
 },
 "nbformat": 4,
 "nbformat_minor": 2
}
