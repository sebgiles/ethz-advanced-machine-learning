{
 "cells": [
  {
   "cell_type": "code",
   "execution_count": 4,
   "metadata": {},
   "outputs": [],
   "source": [
    "import numpy as np"
   ]
  },
  {
   "cell_type": "code",
   "execution_count": 8,
   "metadata": {},
   "outputs": [
    {
     "data": {
      "text/plain": [
       "1"
      ]
     },
     "execution_count": 8,
     "metadata": {},
     "output_type": "execute_result"
    }
   ],
   "source": [
    "A = np.array([[1, 2, 3],[3, 4, 5]])\n",
    "lower = np.min(A)\n",
    "lower"
   ]
  },
  {
   "cell_type": "code",
   "execution_count": null,
   "metadata": {},
   "outputs": [],
   "source": [
    "def removeOutliers(TE, TR):\n",
    "    lower = min(TE{:,2:end});\n",
    "    upper = max(TE{:,2:end});\n",
    "    below = TR{:,3:end} < lower-abs(lower)*tol;\n",
    "    above = TR{:,3:end} > upper+abs(upper)*tol;\n",
    "    outlier_indeces = above+below;\n",
    "    n_outliers_by_sample = sum(outlier_indeces,2);\n",
    "    cleanTR(n_outliers_by_sample>0,:) = [];\n",
    "    return cleanTR"
   ]
  }
 ],
 "metadata": {
  "kernelspec": {
   "display_name": "Python 3",
   "language": "python",
   "name": "python3"
  },
  "language_info": {
   "codemirror_mode": {
    "name": "ipython",
    "version": 3
   },
   "file_extension": ".py",
   "mimetype": "text/x-python",
   "name": "python",
   "nbconvert_exporter": "python",
   "pygments_lexer": "ipython3",
   "version": "3.7.4"
  }
 },
 "nbformat": 4,
 "nbformat_minor": 2
}
