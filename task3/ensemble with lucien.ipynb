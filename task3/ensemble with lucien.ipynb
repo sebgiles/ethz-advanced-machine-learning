{
 "cells": [
  {
   "cell_type": "code",
   "execution_count": 1,
   "metadata": {},
   "outputs": [],
   "source": [
    "import numpy as np"
   ]
  },
  {
   "cell_type": "code",
   "execution_count": 2,
   "metadata": {},
   "outputs": [],
   "source": [
    "luc = np.load('PROBAS_SUM9_TEST.npy')"
   ]
  },
  {
   "cell_type": "code",
   "execution_count": 3,
   "metadata": {},
   "outputs": [
    {
     "data": {
      "text/plain": [
       "(3411, 4)"
      ]
     },
     "execution_count": 3,
     "metadata": {},
     "output_type": "execute_result"
    }
   ],
   "source": [
    "np.shape(luc)"
   ]
  },
  {
   "cell_type": "code",
   "execution_count": 9,
   "metadata": {},
   "outputs": [
    {
     "data": {
      "text/plain": [
       "(3411, 4)"
      ]
     },
     "execution_count": 9,
     "metadata": {},
     "output_type": "execute_result"
    }
   ],
   "source": [
    "pred = np.argmax(luc, axis=1)\n",
    "norms = np.sum(luc, axis=1)\n",
    "conf = luc[pred]\n",
    "np.shape(conf)"
   ]
  },
  {
   "cell_type": "code",
   "execution_count": 15,
   "metadata": {},
   "outputs": [
    {
     "data": {
      "text/plain": [
       "array([[1, 2, 3, 4],\n",
       "       [4, 5, 6, 7]])"
      ]
     },
     "execution_count": 15,
     "metadata": {},
     "output_type": "execute_result"
    }
   ],
   "source": [
    "A= np.array([[1,2,3,4],[4,5,6,7]])\n",
    "A"
   ]
  },
  {
   "cell_type": "code",
   "execution_count": null,
   "metadata": {},
   "outputs": [],
   "source": []
  },
  {
   "cell_type": "code",
   "execution_count": 5,
   "metadata": {},
   "outputs": [],
   "source": [
    "import matplotlib.pyplot as plt"
   ]
  },
  {
   "cell_type": "code",
   "execution_count": 6,
   "metadata": {},
   "outputs": [
    {
     "data": {
      "text/plain": [
       "array([[  8.58334160e+00,   4.10611591e-07,   4.16648328e-01,\n",
       "          9.60082525e-06],\n",
       "       [  8.58334160e+00,   4.10611591e-07,   4.16648328e-01,\n",
       "          9.60082525e-06],\n",
       "       [  8.58334160e+00,   4.10611591e-07,   4.16648328e-01,\n",
       "          9.60082525e-06],\n",
       "       [  8.58334160e+00,   4.10611591e-07,   4.16648328e-01,\n",
       "          9.60082525e-06],\n",
       "       [  8.58334160e+00,   4.10611591e-07,   4.16648328e-01,\n",
       "          9.60082525e-06],\n",
       "       [  8.36882973e+00,   4.63559336e-05,   6.30079150e-01,\n",
       "          1.04500446e-03],\n",
       "       [  6.43407583e+00,   3.55244949e-02,   1.92097974e+00,\n",
       "          6.09420300e-01],\n",
       "       [  6.43407583e+00,   3.55244949e-02,   1.92097974e+00,\n",
       "          6.09420300e-01],\n",
       "       [  8.58334160e+00,   4.10611591e-07,   4.16648328e-01,\n",
       "          9.60082525e-06]], dtype=float32)"
      ]
     },
     "execution_count": 6,
     "metadata": {},
     "output_type": "execute_result"
    }
   ],
   "source": [
    "conf[1:10]"
   ]
  },
  {
   "cell_type": "code",
   "execution_count": 7,
   "metadata": {},
   "outputs": [
    {
     "data": {
      "image/png": "[encoded data removed]",
      "text/plain": [
       "<Figure size 432x288 with 1 Axes>"
      ]
     },
     "metadata": {
      "needs_background": "light"
     },
     "output_type": "display_data"
    }
   ],
   "source": [
    "plt.hist(pred)\n",
    "plt.show()"
   ]
  },
  {
   "cell_type": "code",
   "execution_count": 8,
   "metadata": {},
   "outputs": [],
   "source": [
    "from datetime import datetime\n",
    "def prepare_submission(y_graded, comment = \"\"):\n",
    "    y_out_template = np.genfromtxt ('sample.csv', delimiter=\",\")[1:]\n",
    "    filename = datetime.now().strftime(\"%m.%d.%H.%M\")+\"_\"+comment+\".csv\"\n",
    "    print(filename)\n",
    "    y_out=y_out_template\n",
    "    y_out[:,1] = y_graded\n",
    "    np.savetxt(filename, y_out, delimiter=\",\",header=\"id,y\",  comments='')"
   ]
  },
  {
   "cell_type": "code",
   "execution_count": null,
   "metadata": {},
   "outputs": [],
   "source": [
    "prepare_submission(rf_AML, 'seb')"
   ]
  }
 ],
 "metadata": {
  "kernelspec": {
   "display_name": "Python 3",
   "language": "python",
   "name": "python3"
  },
  "language_info": {
   "codemirror_mode": {
    "name": "ipython",
    "version": 3
   },
   "file_extension": ".py",
   "mimetype": "text/x-python",
   "name": "python",
   "nbconvert_exporter": "python",
   "pygments_lexer": "ipython3",
   "version": "3.6.1"
  }
 },
 "nbformat": 4,
 "nbformat_minor": 2
}
